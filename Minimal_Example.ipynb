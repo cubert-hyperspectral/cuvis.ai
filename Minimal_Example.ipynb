{
 "cells": [
  {
   "cell_type": "code",
   "execution_count": 1,
   "id": "9b11f2d1-576d-4ddd-b1b2-e0bf93eb5dde",
   "metadata": {},
   "outputs": [],
   "source": [
    "import os\n",
    "import numpy as np\n",
    "import yaml\n",
    "import matplotlib.pyplot as plt\n",
    "import cuvis\n",
    "from cuvis_ai.preprocessor import PCA, NMF\n",
    "from cuvis_ai.pipeline import Graph\n",
    "from cuvis_ai.unsupervised import KMeans\n",
    "import networkx as nx"
   ]
  },
  {
   "cell_type": "code",
   "execution_count": null,
   "id": "a99bdbf8-bd7a-44ce-8b60-7eda952da675",
   "metadata": {},
   "outputs": [],
   "source": []
  },
  {
   "cell_type": "code",
   "execution_count": 2,
   "id": "cf44d29a-cc30-4bcf-9b9f-1fa3b282debd",
   "metadata": {},
   "outputs": [],
   "source": [
    "graph = Graph('tomato_net')"
   ]
  },
  {
   "cell_type": "code",
   "execution_count": 3,
   "id": "8e220a03-a249-411c-8125-201e1442ca4b",
   "metadata": {},
   "outputs": [],
   "source": [
    "# Load a sample image\n",
    "data = cuvis.SessionFile('/home/nathaniel/Downloads/20230809_140605_X20_28_b_000.cu3s').get_measurement(0)\n",
    "sample_cube = data.data.get('cube').array"
   ]
  },
  {
   "cell_type": "code",
   "execution_count": 4,
   "id": "28ca6325-ddb7-48d5-b761-47e8df757bd8",
   "metadata": {},
   "outputs": [],
   "source": [
    "# Stage 1 - Dimensionality Reduction\n",
    "pca_stage = PCA(n_components=100)\n",
    "pca_stage.fit(sample_cube)\n",
    "out = pca_stage.forward(sample_cube)"
   ]
  },
  {
   "cell_type": "code",
   "execution_count": 5,
   "id": "caae74f7-6cd1-4c2c-9112-cac00b956fd1",
   "metadata": {},
   "outputs": [],
   "source": [
    "# Stage 2 - Dimensionality Reduction (Redundanct, but included for example)\n",
    "pca_stage2 = PCA(n_components=10)\n",
    "pca_stage2.fit(out)\n",
    "out2 = pca_stage2.forward(out)"
   ]
  },
  {
   "cell_type": "code",
   "execution_count": 6,
   "id": "bd4cd594-490b-4d50-bd84-455bae5fdc22",
   "metadata": {},
   "outputs": [],
   "source": [
    "# Stage 3 - Upsupervised classification\n",
    "kmeans_stage = KMeans(n_clusters=4)\n",
    "kmeans_stage.fit(out2)"
   ]
  },
  {
   "cell_type": "code",
   "execution_count": 7,
   "id": "17b1ae4b-bcff-445f-9094-b4b1de264bb2",
   "metadata": {},
   "outputs": [],
   "source": [
    "graph.add_base_node(pca_stage)"
   ]
  },
  {
   "cell_type": "code",
   "execution_count": 8,
   "id": "e366762c-2ac2-47ce-864e-da918d18258c",
   "metadata": {},
   "outputs": [],
   "source": [
    "graph.add_edge(pca_stage, pca_stage2)"
   ]
  },
  {
   "cell_type": "code",
   "execution_count": 9,
   "id": "0027cc1f-6622-44b4-a66f-b629cc44215e",
   "metadata": {},
   "outputs": [],
   "source": [
    "graph.add_edge(pca_stage2, kmeans_stage)"
   ]
  },
  {
   "cell_type": "code",
   "execution_count": 10,
   "id": "aceade05-ace0-44e3-aa85-af0ec7f49ba8",
   "metadata": {},
   "outputs": [
    {
     "data": {
      "text/plain": [
       "{'PCA-4cc0ce3f-8f74-4421-80ab-1d1ffa7ab877': <cuvis_ai.preprocessor.pca.PCA at 0x7f341848d730>,\n",
       " 'PCA-a568287c-da58-45ec-bad5-cedb1f358696': <cuvis_ai.preprocessor.pca.PCA at 0x7f3397b16130>,\n",
       " 'KMeans-4e5b9611-965c-4e17-aad4-1663a8905212': <cuvis_ai.unsupervised.kmeans.KMeans at 0x7f341848df10>}"
      ]
     },
     "execution_count": 10,
     "metadata": {},
     "output_type": "execute_result"
    }
   ],
   "source": [
    "graph.nodes"
   ]
  },
  {
   "cell_type": "code",
   "execution_count": 11,
   "id": "66969158-6c88-4daf-b393-743fec0ac95c",
   "metadata": {},
   "outputs": [],
   "source": [
    "out = graph.forward(sample_cube)"
   ]
  },
  {
   "cell_type": "code",
   "execution_count": 12,
   "id": "d7aecdc7-3dfc-42d6-8fa7-690a53dd9cf3",
   "metadata": {},
   "outputs": [
    {
     "data": {
      "text/plain": [
       "{'PCA-4cc0ce3f-8f74-4421-80ab-1d1ffa7ab877': array([[[-4.79526484e+03, -1.29867606e+03, -4.29159570e+02, ...,\n",
       "          -1.42695961e+00,  9.90457723e+00,  1.72063138e+00],\n",
       "         [-5.41954369e+03, -1.14361971e+03, -4.11109339e+02, ...,\n",
       "          -3.37545655e+00,  5.86830078e+00, -1.60679609e+01],\n",
       "         [-5.88463702e+03, -1.04635770e+03, -3.92449342e+02, ...,\n",
       "          -1.25892298e+00,  4.57335097e+00, -1.06875429e+01],\n",
       "         ...,\n",
       "         [ 6.32512460e+03,  3.45408351e+03, -7.38121151e+02, ...,\n",
       "           4.00496198e+01, -5.81178418e+01, -7.92845787e+01],\n",
       "         [ 7.23290697e+03,  4.41015055e+03, -4.83833381e+02, ...,\n",
       "           1.53474920e+01, -1.43266067e+02, -8.08987805e+01],\n",
       "         [ 6.95292366e+03,  4.81005293e+03, -1.38685998e+02, ...,\n",
       "          -4.05709044e+01, -1.84127871e+01,  2.22338943e+02]],\n",
       " \n",
       "        [[-5.41242855e+03, -1.21401906e+03, -4.21815220e+02, ...,\n",
       "           2.21086202e+00,  1.39636275e+01, -1.60976028e+01],\n",
       "         [-5.84831786e+03, -1.08513058e+03, -4.03448057e+02, ...,\n",
       "          -1.28034430e+00,  4.30443238e+00, -3.20947686e+00],\n",
       "         [-6.11715396e+03, -9.90160679e+02, -3.70012892e+02, ...,\n",
       "           2.62206385e+00,  7.84945818e-01, -9.36672761e+00],\n",
       "         ...,\n",
       "         [ 8.23591917e+03,  5.18468645e+03, -3.14880782e+02, ...,\n",
       "          -3.18357019e+01, -1.57108782e+01, -3.53378535e+01],\n",
       "         [ 7.73749341e+03,  4.81854205e+03, -3.06863402e+02, ...,\n",
       "          -2.98828122e+01, -3.89999111e+01, -1.24811167e+02],\n",
       "         [ 8.27226454e+03,  5.03240271e+03, -5.34147527e+02, ...,\n",
       "          -8.00727415e+01,  1.61521628e+02, -2.59292096e+01]],\n",
       " \n",
       "        [[-5.79821250e+03, -1.12918683e+03, -4.23892032e+02, ...,\n",
       "           2.80218943e+00,  5.54404242e+00, -2.51383740e+00],\n",
       "         [-6.01280092e+03, -1.00254015e+03, -4.02034894e+02, ...,\n",
       "           1.71021139e+00,  1.55744064e+00, -5.77570999e+00],\n",
       "         [-6.17756818e+03, -9.14332275e+02, -3.56572892e+02, ...,\n",
       "           4.29483756e-01,  5.23887383e+00, -1.65463254e+01],\n",
       "         ...,\n",
       "         [ 9.23245603e+03,  5.35063728e+03, -1.17631699e+02, ...,\n",
       "          -4.00343562e+00,  5.51003835e+01, -6.13068299e+01],\n",
       "         [ 9.66482209e+03,  5.82380106e+03,  2.84157336e+02, ...,\n",
       "          -1.56695382e+02, -2.88362754e+01, -2.73578692e+01],\n",
       "         [ 9.39109780e+03,  5.01149711e+03, -2.61531804e+02, ...,\n",
       "          -1.19056233e+02,  2.08201660e+02,  5.64728211e+01]],\n",
       " \n",
       "        ...,\n",
       " \n",
       "        [[-5.64963980e+03, -1.73123718e+00,  4.06284318e+00, ...,\n",
       "           6.58082492e+00, -1.75427204e+00,  3.25932150e+00],\n",
       "         [-5.61220003e+03,  7.64244334e+00,  7.55465709e+00, ...,\n",
       "           7.64756594e+00,  1.86866750e+00, -2.65441317e+00],\n",
       "         [-5.57194362e+03,  2.62538815e+01,  2.12533539e+01, ...,\n",
       "           9.29643138e+00,  3.57921646e+00, -1.48350614e+01],\n",
       "         ...,\n",
       "         [-5.88941499e+03, -1.34120802e+02, -1.08148151e+02, ...,\n",
       "           2.93916608e+01, -4.35624034e+01, -8.91193594e+00],\n",
       "         [-5.84240665e+03, -2.08522465e+02, -1.92657546e+02, ...,\n",
       "           3.62544352e+01, -3.85854011e+01,  3.86765817e+01],\n",
       "         [-5.87356957e+03, -1.84941337e+02, -1.48499856e+02, ...,\n",
       "           3.25063607e+00, -3.56320174e+01, -3.65160590e+00]],\n",
       " \n",
       "        [[-5.69203031e+03, -2.63398591e+01,  1.84548293e+01, ...,\n",
       "           6.06065702e+00,  8.93138235e+00,  6.41499962e+00],\n",
       "         [-5.65603531e+03,  3.72839901e+00,  3.55352833e+01, ...,\n",
       "           1.67638867e-01,  1.73874038e+00, -2.23415936e+00],\n",
       "         [-5.62055798e+03, -2.93145940e+00,  2.07873563e+01, ...,\n",
       "           6.91174658e+00,  2.59797306e+00, -3.43037667e+00],\n",
       "         ...,\n",
       "         [-5.93031088e+03, -3.76692442e+02, -2.86761046e+02, ...,\n",
       "           3.01114784e+01, -5.15034987e+01, -4.21345228e+01],\n",
       "         [-5.82119555e+03, -2.83868537e+02, -2.58913879e+02, ...,\n",
       "           7.42671423e+00, -4.03845498e+01, -5.90207890e+01],\n",
       "         [-5.77847174e+03, -2.03106333e+02, -1.85597194e+02, ...,\n",
       "           4.24561312e+00, -2.00562630e+01, -1.35943304e+01]],\n",
       " \n",
       "        [[-5.68951025e+03, -1.41482830e+01,  1.76871374e+01, ...,\n",
       "           3.27337819e+00,  9.91750842e-01, -2.62749774e-01],\n",
       "         [-5.66224002e+03, -9.69033558e+00,  2.74612283e+01, ...,\n",
       "           3.25093721e+00,  1.00164843e+00,  2.88645003e+00],\n",
       "         [-5.60096746e+03,  5.76554416e+00,  1.36353174e+01, ...,\n",
       "           5.21645709e+00,  2.85990257e+00, -1.30753448e+01],\n",
       "         ...,\n",
       "         [-5.94634464e+03, -4.11805777e+02, -2.86895861e+02, ...,\n",
       "          -6.19773241e+00, -5.61250579e+01, -3.44985553e+01],\n",
       "         [-5.85879862e+03, -4.05309997e+02, -3.26190298e+02, ...,\n",
       "          -4.97241730e+00, -5.66109232e+01, -4.45694439e+01],\n",
       "         [-5.74818015e+03, -2.29760817e+02, -2.76995387e+02, ...,\n",
       "          -8.55530803e+00, -6.35135396e+01, -2.71161363e+01]]]),\n",
       " 'PCA-a568287c-da58-45ec-bad5-cedb1f358696': array([[[-4.79526484e+03, -1.29867606e+03, -4.29159570e+02, ...,\n",
       "          -6.79873525e+01,  1.56629621e+02,  4.46310489e+00],\n",
       "         [-5.41954369e+03, -1.14361971e+03, -4.11109339e+02, ...,\n",
       "          -5.48929001e+01,  2.15602476e+02,  7.37519889e+00],\n",
       "         [-5.88463702e+03, -1.04635770e+03, -3.92449342e+02, ...,\n",
       "          -3.92467486e+01,  2.00877090e+02,  1.30647684e+01],\n",
       "         ...,\n",
       "         [ 6.32512460e+03,  3.45408351e+03, -7.38121151e+02, ...,\n",
       "          -2.77646987e+02,  5.98189489e+03, -1.03707690e+02],\n",
       "         [ 7.23290697e+03,  4.41015055e+03, -4.83833382e+02, ...,\n",
       "          -3.90125294e+02,  5.47939325e+03, -4.19171481e+02],\n",
       "         [ 6.95292366e+03,  4.81005293e+03, -1.38685998e+02, ...,\n",
       "          -3.92293217e+02,  5.75082101e+03, -3.26760164e+02]],\n",
       " \n",
       "        [[-5.41242855e+03, -1.21401906e+03, -4.21815220e+02, ...,\n",
       "          -4.41437469e+01,  2.19969736e+02,  1.73781253e+01],\n",
       "         [-5.84831786e+03, -1.08513058e+03, -4.03448057e+02, ...,\n",
       "          -2.74494903e+01,  2.09476858e+02,  2.32314987e+01],\n",
       "         [-6.11715396e+03, -9.90160679e+02, -3.70012892e+02, ...,\n",
       "          -2.08269908e+01,  1.93120855e+02,  1.37050933e+01],\n",
       "         ...,\n",
       "         [ 8.23591917e+03,  5.18468645e+03, -3.14880782e+02, ...,\n",
       "          -3.10321114e+02,  6.00812197e+03,  5.91818169e+01],\n",
       "         [ 7.73749341e+03,  4.81854205e+03, -3.06863402e+02, ...,\n",
       "          -2.49004299e+02,  5.01644910e+03,  6.21482993e+01],\n",
       "         [ 8.27226454e+03,  5.03240271e+03, -5.34147527e+02, ...,\n",
       "          -2.35200005e+02,  4.99611172e+03,  1.47589773e+02]],\n",
       " \n",
       "        [[-5.79821250e+03, -1.12918683e+03, -4.23892032e+02, ...,\n",
       "          -3.62850011e+01,  2.04239495e+02,  1.57626939e+01],\n",
       "         [-6.01280092e+03, -1.00254015e+03, -4.02034894e+02, ...,\n",
       "          -2.95658868e+01,  1.81839916e+02,  5.50776892e+00],\n",
       "         [-6.17756818e+03, -9.14332275e+02, -3.56572892e+02, ...,\n",
       "          -1.76576420e+01,  2.04369675e+02,  1.66570828e+01],\n",
       "         ...,\n",
       "         [ 9.23245603e+03,  5.35063728e+03, -1.17631699e+02, ...,\n",
       "          -2.68815243e+02,  6.61022004e+03,  2.94956820e+02],\n",
       "         [ 9.66482209e+03,  5.82380106e+03,  2.84157336e+02, ...,\n",
       "          -2.54579761e+02,  6.38137599e+03,  2.05100199e+02],\n",
       "         [ 9.39109780e+03,  5.01149711e+03, -2.61531804e+02, ...,\n",
       "          -2.12641562e+02,  5.38836979e+03,  3.01413176e+02]],\n",
       " \n",
       "        ...,\n",
       " \n",
       "        [[-5.64963980e+03, -1.73123718e+00,  4.06284318e+00, ...,\n",
       "          -5.22533157e+01,  1.18978616e+02, -9.28698945e+01],\n",
       "         [-5.61220003e+03,  7.64244334e+00,  7.55465709e+00, ...,\n",
       "          -5.28927959e+01,  1.41918080e+02, -9.59808027e+01],\n",
       "         [-5.57194362e+03,  2.62538815e+01,  2.12533539e+01, ...,\n",
       "          -5.30079866e+01,  1.90076352e+02, -9.79480267e+01],\n",
       "         ...,\n",
       "         [-5.88941499e+03, -1.34120802e+02, -1.08148151e+02, ...,\n",
       "           1.33277286e+02,  7.81778666e+01,  2.29715931e+02],\n",
       "         [-5.84240665e+03, -2.08522465e+02, -1.92657546e+02, ...,\n",
       "           1.01142198e+02,  9.03955367e+01,  1.71716547e+02],\n",
       "         [-5.87356957e+03, -1.84941337e+02, -1.48499856e+02, ...,\n",
       "           8.42170084e+01,  5.12245559e+02,  2.14818958e+02]],\n",
       " \n",
       "        [[-5.69203031e+03, -2.63398591e+01,  1.84548293e+01, ...,\n",
       "          -4.65317790e+01,  1.35533533e+02, -8.46394958e+01],\n",
       "         [-5.65603531e+03,  3.72839901e+00,  3.55352833e+01, ...,\n",
       "          -4.39041820e+01,  2.04238173e+02, -7.40151205e+01],\n",
       "         [-5.62055798e+03, -2.93145940e+00,  2.07873563e+01, ...,\n",
       "          -4.75863045e+01,  1.87764021e+02, -8.99893082e+01],\n",
       "         ...,\n",
       "         [-5.93031088e+03, -3.76692442e+02, -2.86761046e+02, ...,\n",
       "           1.05239250e+02,  4.99946594e+00,  1.80801919e+02],\n",
       "         [-5.82119555e+03, -2.83868537e+02, -2.58913879e+02, ...,\n",
       "           9.51945993e+01,  1.06031755e+02,  1.69545036e+02],\n",
       "         [-5.77847174e+03, -2.03106333e+02, -1.85597194e+02, ...,\n",
       "           8.03892534e+01,  5.15671519e+02,  2.04130495e+02]],\n",
       " \n",
       "        [[-5.68951025e+03, -1.41482830e+01,  1.76871374e+01, ...,\n",
       "           6.24242109e+01,  7.99918481e+01,  9.38785550e+01],\n",
       "         [-5.66224002e+03, -9.69033558e+00,  2.74612283e+01, ...,\n",
       "          -4.48848202e+01,  1.53157018e+02, -7.57862804e+01],\n",
       "         [-5.60096746e+03,  5.76554416e+00,  1.36353174e+01, ...,\n",
       "          -2.59136666e+01,  1.53886520e+02, -3.08204687e+01],\n",
       "         ...,\n",
       "         [-5.94634464e+03, -4.11805777e+02, -2.86895861e+02, ...,\n",
       "           8.99516826e+01,  7.67038899e+01,  1.85350855e+02],\n",
       "         [-5.85879862e+03, -4.05309997e+02, -3.26190298e+02, ...,\n",
       "           9.62608000e+01,  3.19714999e+01,  1.90363813e+02],\n",
       "         [-5.74818015e+03, -2.29760817e+02, -2.76995387e+02, ...,\n",
       "           8.48397984e+01,  4.36702622e+02,  1.97258844e+02]]]),\n",
       " 'KMeans-4e5b9611-965c-4e17-aad4-1663a8905212': array([[0, 0, 0, ..., 0, 0, 0],\n",
       "        [0, 0, 0, ..., 3, 0, 3],\n",
       "        [0, 0, 0, ..., 3, 3, 3],\n",
       "        ...,\n",
       "        [0, 0, 0, ..., 0, 0, 0],\n",
       "        [0, 0, 0, ..., 0, 0, 0],\n",
       "        [0, 0, 0, ..., 0, 0, 0]], dtype=int32)}"
      ]
     },
     "execution_count": 12,
     "metadata": {},
     "output_type": "execute_result"
    }
   ],
   "source": [
    "out"
   ]
  },
  {
   "cell_type": "code",
   "execution_count": 12,
   "id": "93a9f11c-e450-4e95-ac73-cd4f5eb4bd8e",
   "metadata": {},
   "outputs": [
    {
     "data": {
      "image/png": "[encoded data removed]",
      "text/plain": [
       "<Figure size 640x480 with 1 Axes>"
      ]
     },
     "metadata": {},
     "output_type": "display_data"
    }
   ],
   "source": [
    "nx.draw(graph.graph, with_labels = True)"
   ]
  },
  {
   "cell_type": "code",
   "execution_count": null,
   "id": "af99942f-12b5-4fe6-a703-7478c92f1f90",
   "metadata": {},
   "outputs": [],
   "source": [
    "pipes.forward(sample_cube)"
   ]
  },
  {
   "cell_type": "code",
   "execution_count": null,
   "id": "66ae3994-f70d-4135-ae12-c687c752955d",
   "metadata": {},
   "outputs": [],
   "source": [
    "plt.figure()\n",
    "plt.imshow(pipes.forward(sample_cube), cmap='grey')"
   ]
  },
  {
   "cell_type": "code",
   "execution_count": null,
   "id": "ef1aa0fb-fff9-42de-8808-edd947a46ce3",
   "metadata": {},
   "outputs": [],
   "source": [
    "pipes.serialize()"
   ]
  },
  {
   "cell_type": "code",
   "execution_count": null,
   "id": "f3e5ce06-a0d1-413c-8a2d-c3a8fac4e1b8",
   "metadata": {},
   "outputs": [],
   "source": [
    "pipes_load = Pipeline('tomato_test_3')"
   ]
  },
  {
   "cell_type": "code",
   "execution_count": null,
   "id": "bc2d6af3-1341-4b7e-b2fb-63fe44747f9b",
   "metadata": {},
   "outputs": [],
   "source": [
    "pipes_load.load('/home/nathaniel/tomato_test_2024_03_04_16_20_30.zip')"
   ]
  },
  {
   "cell_type": "code",
   "execution_count": null,
   "id": "967b2712-be54-435c-bc14-01e1e574f0c3",
   "metadata": {},
   "outputs": [],
   "source": [
    "pipes_load.pipeline"
   ]
  },
  {
   "cell_type": "code",
   "execution_count": null,
   "id": "b62c5420-d748-433c-8d7f-198e89ddc2e2",
   "metadata": {},
   "outputs": [],
   "source": [
    "plt.figure()\n",
    "plt.imshow(pipes_load.forward(sample_cube), cmap='grey')"
   ]
  },
  {
   "cell_type": "code",
   "execution_count": null,
   "id": "f15a02e3-a649-4f1d-8dc7-557e414e4a36",
   "metadata": {},
   "outputs": [],
   "source": []
  }
 ],
 "metadata": {
  "kernelspec": {
   "display_name": "Python 3 (ipykernel)",
   "language": "python",
   "name": "python3"
  },
  "language_info": {
   "codemirror_mode": {
    "name": "ipython",
    "version": 3
   },
   "file_extension": ".py",
   "mimetype": "text/x-python",
   "name": "python",
   "nbconvert_exporter": "python",
   "pygments_lexer": "ipython3",
   "version": "3.9.18"
  }
 },
 "nbformat": 4,
 "nbformat_minor": 5
}
